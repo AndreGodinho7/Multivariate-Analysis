{
 "cells": [
  {
   "cell_type": "markdown",
   "metadata": {},
   "source": [
    "# 1. Import libraries"
   ]
  },
  {
   "cell_type": "code",
   "execution_count": 27,
   "metadata": {},
   "outputs": [],
   "source": [
    "import time\n",
    "import numpy as np\n",
    "from sklearn.metrics import confusion_matrix, f1_score, accuracy_score\n",
    "\n",
    "# data manipulation\n",
    "import pandas as pd\n",
    "from sklearn.model_selection import train_test_split\n",
    "from sklearn.model_selection import cross_val_score\n",
    "\n",
    "# plot visualization\n",
    "import seaborn as sns\n",
    "import matplotlib.pyplot as plt\n",
    "from IPython.display import display\n",
    "\n",
    "# classifiers\n",
    "from sklearn.ensemble import RandomForestClassifier\n",
    "from sklearn.neighbors import KNeighborsClassifier\n",
    "from sklearn import svm\n",
    "\n",
    "# PCA\n",
    "from sklearn.decomposition import PCA"
   ]
  },
  {
   "cell_type": "markdown",
   "metadata": {},
   "source": [
    "# 2. Breast Cancer Wisconsin (diagnostic) dataset"
   ]
  },
  {
   "cell_type": "markdown",
   "metadata": {},
   "source": [
    "__Attribute Information:__\n",
    "\n",
    "__1)__ Clump_Thickness\n",
    "\n",
    "__2)__ Cell_Size_Uniformity\t\n",
    "\n",
    "__3)__ Cell_Shape_Uniformity\n",
    "\n",
    "__4)__ Marginal Adhesion\n",
    "\n",
    "__5)__ Single Epi Cell Size\n",
    "\n",
    "__6)__ Bare Nuclei\n",
    "\n",
    "__7)__ Bland Chromatin\n",
    "\n",
    "__8)__ Normal Nucleoli\n",
    "\n",
    "__9)__ Bare Nuclei.1\n",
    "\n",
    "__10)__ Class {Benign ; Malign}"
   ]
  },
  {
   "cell_type": "markdown",
   "metadata": {},
   "source": [
    "## 2.1. Read csv file"
   ]
  },
  {
   "cell_type": "code",
   "execution_count": 54,
   "metadata": {},
   "outputs": [
    {
     "data": {
      "text/plain": [
       "Index(['Clump_Thickness', 'Cell_Size_Uniformity', 'Cell_Shape_Uniformity',\n",
       "       'Marginal_Adhesion', 'Single_Epi_Cell_Size', 'Bare_Nuclei',\n",
       "       'Bland_Chromatin', 'Normal_Nucleoli', 'Bare_Nuclei.1', 'Class'],\n",
       "      dtype='object')"
      ]
     },
     "metadata": {},
     "output_type": "display_data"
    },
    {
     "name": "stdout",
     "output_type": "stream",
     "text": [
      "<class 'pandas.core.frame.DataFrame'>\n",
      "RangeIndex: 699 entries, 0 to 698\n",
      "Data columns (total 10 columns):\n",
      "Clump_Thickness          699 non-null int64\n",
      "Cell_Size_Uniformity     699 non-null int64\n",
      "Cell_Shape_Uniformity    699 non-null int64\n",
      "Marginal_Adhesion        699 non-null int64\n",
      "Single_Epi_Cell_Size     699 non-null int64\n",
      "Bare_Nuclei              699 non-null float64\n",
      "Bland_Chromatin          699 non-null int64\n",
      "Normal_Nucleoli          699 non-null int64\n",
      "Bare_Nuclei.1            699 non-null int64\n",
      "Class                    699 non-null object\n",
      "dtypes: float64(1), int64(8), object(1)\n",
      "memory usage: 54.7+ KB\n"
     ]
    },
    {
     "data": {
      "text/plain": [
       "None"
      ]
     },
     "metadata": {},
     "output_type": "display_data"
    },
    {
     "data": {
      "text/html": [
       "<div>\n",
       "<style scoped>\n",
       "    .dataframe tbody tr th:only-of-type {\n",
       "        vertical-align: middle;\n",
       "    }\n",
       "\n",
       "    .dataframe tbody tr th {\n",
       "        vertical-align: top;\n",
       "    }\n",
       "\n",
       "    .dataframe thead th {\n",
       "        text-align: right;\n",
       "    }\n",
       "</style>\n",
       "<table border=\"1\" class=\"dataframe\">\n",
       "  <thead>\n",
       "    <tr style=\"text-align: right;\">\n",
       "      <th></th>\n",
       "      <th>Clump_Thickness</th>\n",
       "      <th>Cell_Size_Uniformity</th>\n",
       "      <th>Cell_Shape_Uniformity</th>\n",
       "      <th>Marginal_Adhesion</th>\n",
       "      <th>Single_Epi_Cell_Size</th>\n",
       "      <th>Bare_Nuclei</th>\n",
       "      <th>Bland_Chromatin</th>\n",
       "      <th>Normal_Nucleoli</th>\n",
       "      <th>Bare_Nuclei.1</th>\n",
       "      <th>Class</th>\n",
       "    </tr>\n",
       "  </thead>\n",
       "  <tbody>\n",
       "    <tr>\n",
       "      <th>0</th>\n",
       "      <td>7</td>\n",
       "      <td>4</td>\n",
       "      <td>5</td>\n",
       "      <td>10</td>\n",
       "      <td>2</td>\n",
       "      <td>10.00</td>\n",
       "      <td>3</td>\n",
       "      <td>8</td>\n",
       "      <td>2</td>\n",
       "      <td>1</td>\n",
       "    </tr>\n",
       "    <tr>\n",
       "      <th>1</th>\n",
       "      <td>5</td>\n",
       "      <td>3</td>\n",
       "      <td>4</td>\n",
       "      <td>1</td>\n",
       "      <td>4</td>\n",
       "      <td>1.00</td>\n",
       "      <td>3</td>\n",
       "      <td>1</td>\n",
       "      <td>1</td>\n",
       "      <td>0</td>\n",
       "    </tr>\n",
       "    <tr>\n",
       "      <th>2</th>\n",
       "      <td>9</td>\n",
       "      <td>9</td>\n",
       "      <td>10</td>\n",
       "      <td>3</td>\n",
       "      <td>6</td>\n",
       "      <td>10.00</td>\n",
       "      <td>7</td>\n",
       "      <td>10</td>\n",
       "      <td>6</td>\n",
       "      <td>1</td>\n",
       "    </tr>\n",
       "    <tr>\n",
       "      <th>3</th>\n",
       "      <td>1</td>\n",
       "      <td>1</td>\n",
       "      <td>2</td>\n",
       "      <td>1</td>\n",
       "      <td>3</td>\n",
       "      <td>1.37</td>\n",
       "      <td>1</td>\n",
       "      <td>1</td>\n",
       "      <td>1</td>\n",
       "      <td>0</td>\n",
       "    </tr>\n",
       "    <tr>\n",
       "      <th>4</th>\n",
       "      <td>5</td>\n",
       "      <td>7</td>\n",
       "      <td>9</td>\n",
       "      <td>8</td>\n",
       "      <td>6</td>\n",
       "      <td>10.00</td>\n",
       "      <td>8</td>\n",
       "      <td>10</td>\n",
       "      <td>1</td>\n",
       "      <td>1</td>\n",
       "    </tr>\n",
       "  </tbody>\n",
       "</table>\n",
       "</div>"
      ],
      "text/plain": [
       "   Clump_Thickness  Cell_Size_Uniformity  Cell_Shape_Uniformity  \\\n",
       "0                7                     4                      5   \n",
       "1                5                     3                      4   \n",
       "2                9                     9                     10   \n",
       "3                1                     1                      2   \n",
       "4                5                     7                      9   \n",
       "\n",
       "   Marginal_Adhesion  Single_Epi_Cell_Size  Bare_Nuclei  Bland_Chromatin  \\\n",
       "0                 10                     2        10.00                3   \n",
       "1                  1                     4         1.00                3   \n",
       "2                  3                     6        10.00                7   \n",
       "3                  1                     3         1.37                1   \n",
       "4                  8                     6        10.00                8   \n",
       "\n",
       "   Normal_Nucleoli  Bare_Nuclei.1  Class  \n",
       "0                8              2      1  \n",
       "1                1              1      0  \n",
       "2               10              6      1  \n",
       "3                1              1      0  \n",
       "4               10              1      1  "
      ]
     },
     "execution_count": 54,
     "metadata": {},
     "output_type": "execute_result"
    }
   ],
   "source": [
    "dataset = pd.read_csv(\"cancer.csv\")\n",
    "display(dataset.columns)\n",
    "display(dataset.info())\n",
    "dataset['Class']=dataset['Class'].map({' malignant':1,' benign':0})\n",
    "dataset.head()"
   ]
  },
  {
   "cell_type": "markdown",
   "metadata": {},
   "source": [
    "__Observations:__\n",
    "\n",
    "By observing the information about the dataset we can see that the __class__ column corresponds to the true label of the samples so we will label _malign_ diagnosis as 1 and _benign_ diagnosis as 0."
   ]
  },
  {
   "cell_type": "markdown",
   "metadata": {},
   "source": [
    "# 2.2. QUESTION 5: Repeat the classification with the partition obtained in Unsupervised approach"
   ]
  },
  {
   "cell_type": "code",
   "execution_count": 55,
   "metadata": {},
   "outputs": [
    {
     "data": {
      "text/html": [
       "<div>\n",
       "<style scoped>\n",
       "    .dataframe tbody tr th:only-of-type {\n",
       "        vertical-align: middle;\n",
       "    }\n",
       "\n",
       "    .dataframe tbody tr th {\n",
       "        vertical-align: top;\n",
       "    }\n",
       "\n",
       "    .dataframe thead th {\n",
       "        text-align: right;\n",
       "    }\n",
       "</style>\n",
       "<table border=\"1\" class=\"dataframe\">\n",
       "  <thead>\n",
       "    <tr style=\"text-align: right;\">\n",
       "      <th></th>\n",
       "      <th>Class</th>\n",
       "      <th>Clump_Thickness</th>\n",
       "      <th>Cell_Size_Uniformity</th>\n",
       "      <th>Cell_Shape_Uniformity</th>\n",
       "      <th>Marginal_Adhesion</th>\n",
       "      <th>Single_Epi_Cell_Size</th>\n",
       "      <th>Bare_Nuclei</th>\n",
       "      <th>Bland_Chromatin</th>\n",
       "      <th>Normal_Nucleoli</th>\n",
       "      <th>Bare_Nuclei.1</th>\n",
       "    </tr>\n",
       "  </thead>\n",
       "  <tbody>\n",
       "    <tr>\n",
       "      <th>0</th>\n",
       "      <td>1</td>\n",
       "      <td>7</td>\n",
       "      <td>4</td>\n",
       "      <td>5</td>\n",
       "      <td>10</td>\n",
       "      <td>2</td>\n",
       "      <td>10.00</td>\n",
       "      <td>3</td>\n",
       "      <td>8</td>\n",
       "      <td>2</td>\n",
       "    </tr>\n",
       "    <tr>\n",
       "      <th>1</th>\n",
       "      <td>0</td>\n",
       "      <td>5</td>\n",
       "      <td>3</td>\n",
       "      <td>4</td>\n",
       "      <td>1</td>\n",
       "      <td>4</td>\n",
       "      <td>1.00</td>\n",
       "      <td>3</td>\n",
       "      <td>1</td>\n",
       "      <td>1</td>\n",
       "    </tr>\n",
       "    <tr>\n",
       "      <th>2</th>\n",
       "      <td>1</td>\n",
       "      <td>9</td>\n",
       "      <td>9</td>\n",
       "      <td>10</td>\n",
       "      <td>3</td>\n",
       "      <td>6</td>\n",
       "      <td>10.00</td>\n",
       "      <td>7</td>\n",
       "      <td>10</td>\n",
       "      <td>6</td>\n",
       "    </tr>\n",
       "    <tr>\n",
       "      <th>3</th>\n",
       "      <td>0</td>\n",
       "      <td>1</td>\n",
       "      <td>1</td>\n",
       "      <td>2</td>\n",
       "      <td>1</td>\n",
       "      <td>3</td>\n",
       "      <td>1.37</td>\n",
       "      <td>1</td>\n",
       "      <td>1</td>\n",
       "      <td>1</td>\n",
       "    </tr>\n",
       "    <tr>\n",
       "      <th>4</th>\n",
       "      <td>1</td>\n",
       "      <td>5</td>\n",
       "      <td>7</td>\n",
       "      <td>9</td>\n",
       "      <td>8</td>\n",
       "      <td>6</td>\n",
       "      <td>10.00</td>\n",
       "      <td>8</td>\n",
       "      <td>10</td>\n",
       "      <td>1</td>\n",
       "    </tr>\n",
       "  </tbody>\n",
       "</table>\n",
       "</div>"
      ],
      "text/plain": [
       "   Class  Clump_Thickness  Cell_Size_Uniformity  Cell_Shape_Uniformity  \\\n",
       "0      1                7                     4                      5   \n",
       "1      0                5                     3                      4   \n",
       "2      1                9                     9                     10   \n",
       "3      0                1                     1                      2   \n",
       "4      1                5                     7                      9   \n",
       "\n",
       "   Marginal_Adhesion  Single_Epi_Cell_Size  Bare_Nuclei  Bland_Chromatin  \\\n",
       "0                 10                     2        10.00                3   \n",
       "1                  1                     4         1.00                3   \n",
       "2                  3                     6        10.00                7   \n",
       "3                  1                     3         1.37                1   \n",
       "4                  8                     6        10.00                8   \n",
       "\n",
       "   Normal_Nucleoli  Bare_Nuclei.1  \n",
       "0                8              2  \n",
       "1                1              1  \n",
       "2               10              6  \n",
       "3                1              1  \n",
       "4               10              1  "
      ]
     },
     "execution_count": 55,
     "metadata": {},
     "output_type": "execute_result"
    }
   ],
   "source": [
    "from sklearn.cluster import AgglomerativeClustering\n",
    "\n",
    "dataset_y = dataset.Class\n",
    "dataset = dataset.drop(['Class'], axis=1)\n",
    "\n",
    "model = AgglomerativeClustering(n_clusters=2, affinity='euclidean', linkage='ward')\n",
    "model.fit(dataset)\n",
    "clustering_labels = model.labels_\n",
    "\n",
    "clustering_labels[np.where(clustering_labels == 1)] = 2\n",
    "clustering_labels[np.where(clustering_labels == 0)] = 1\n",
    "clustering_labels[np.where(clustering_labels == 2)] = 0\n",
    "\n",
    "dataset = pd.concat([pd.DataFrame({\"Class\": clustering_labels}), dataset],axis=1)\n",
    "dataset.head()"
   ]
  },
  {
   "cell_type": "markdown",
   "metadata": {},
   "source": [
    "## 2.2. Split dataset into train a test set"
   ]
  },
  {
   "cell_type": "code",
   "execution_count": 56,
   "metadata": {},
   "outputs": [
    {
     "name": "stdout",
     "output_type": "stream",
     "text": [
      "Train size: 489 samples.\n",
      "Test size: 210 samples.\n"
     ]
    }
   ],
   "source": [
    "train, test = train_test_split(dataset, test_size=0.3, random_state=10)\n",
    "train_y = train.Class\n",
    "test_y = test.Class\n",
    "print(\"Train size: {} samples.\".format(len(train)))\n",
    "print(\"Test size: {} samples.\".format(len(test)))\n",
    "train = train.drop(['Class'],axis = 1 )\n",
    "test = test.drop(['Class'],axis = 1 )"
   ]
  },
  {
   "cell_type": "markdown",
   "metadata": {},
   "source": [
    "__Observations:__\n",
    "\n",
    "We splitted the dataset in __70% for train__ and __30% for test__.\n",
    "\n",
    "We are going to store the train and test true label into __train_y__ and __test_y__ variables. After doing that, we can drop __diagnosis__ column from the train and test dataset.\n",
    "\n",
    "__The train_test_split function from sklearn shuffles the data before splitting.__"
   ]
  },
  {
   "cell_type": "code",
   "execution_count": 57,
   "metadata": {},
   "outputs": [
    {
     "name": "stdout",
     "output_type": "stream",
     "text": [
      "Benign samples: 301.\n",
      "Malign samples: 188.\n"
     ]
    },
    {
     "data": {
      "text/plain": [
       "<matplotlib.axes._subplots.AxesSubplot at 0x1fc70498908>"
      ]
     },
     "execution_count": 57,
     "metadata": {},
     "output_type": "execute_result"
    },
    {
     "data": {
      "image/png": "[encoded data removed]",
      "text/plain": [
       "<Figure size 432x288 with 1 Axes>"
      ]
     },
     "metadata": {},
     "output_type": "display_data"
    }
   ],
   "source": [
    "benign, malign = train_y.value_counts()\n",
    "print(\"Benign samples: {}.\".format(benign))\n",
    "print(\"Malign samples: {}.\".format(malign))\n",
    "sns.countplot(train_y,label=\"Count\")"
   ]
  },
  {
   "cell_type": "markdown",
   "metadata": {},
   "source": [
    "__Observations:__\n",
    "\n",
    "We can observe that the classification problem is imbalanced. In other words, __malign__ samples are less common than __benign__ samples, it will be important to measure other metrics like F1-measure besides accuracy for comparing the results."
   ]
  },
  {
   "cell_type": "markdown",
   "metadata": {},
   "source": [
    "# 3.  Feature selection "
   ]
  },
  {
   "cell_type": "code",
   "execution_count": 58,
   "metadata": {},
   "outputs": [
    {
     "data": {
      "text/html": [
       "<div>\n",
       "<style scoped>\n",
       "    .dataframe tbody tr th:only-of-type {\n",
       "        vertical-align: middle;\n",
       "    }\n",
       "\n",
       "    .dataframe tbody tr th {\n",
       "        vertical-align: top;\n",
       "    }\n",
       "\n",
       "    .dataframe thead th {\n",
       "        text-align: right;\n",
       "    }\n",
       "</style>\n",
       "<table border=\"1\" class=\"dataframe\">\n",
       "  <thead>\n",
       "    <tr style=\"text-align: right;\">\n",
       "      <th></th>\n",
       "      <th>Clump_Thickness</th>\n",
       "      <th>Cell_Size_Uniformity</th>\n",
       "      <th>Cell_Shape_Uniformity</th>\n",
       "      <th>Marginal_Adhesion</th>\n",
       "      <th>Single_Epi_Cell_Size</th>\n",
       "      <th>Bare_Nuclei</th>\n",
       "      <th>Bland_Chromatin</th>\n",
       "      <th>Normal_Nucleoli</th>\n",
       "      <th>Bare_Nuclei.1</th>\n",
       "    </tr>\n",
       "  </thead>\n",
       "  <tbody>\n",
       "    <tr>\n",
       "      <th>count</th>\n",
       "      <td>489.000000</td>\n",
       "      <td>489.000000</td>\n",
       "      <td>489.000000</td>\n",
       "      <td>489.000000</td>\n",
       "      <td>489.000000</td>\n",
       "      <td>489.000000</td>\n",
       "      <td>489.000000</td>\n",
       "      <td>489.000000</td>\n",
       "      <td>489.000000</td>\n",
       "    </tr>\n",
       "    <tr>\n",
       "      <th>mean</th>\n",
       "      <td>4.474438</td>\n",
       "      <td>3.186094</td>\n",
       "      <td>3.235174</td>\n",
       "      <td>2.901840</td>\n",
       "      <td>3.222904</td>\n",
       "      <td>3.545112</td>\n",
       "      <td>3.525562</td>\n",
       "      <td>2.934560</td>\n",
       "      <td>1.678937</td>\n",
       "    </tr>\n",
       "    <tr>\n",
       "      <th>std</th>\n",
       "      <td>2.899240</td>\n",
       "      <td>3.083558</td>\n",
       "      <td>2.985606</td>\n",
       "      <td>2.953634</td>\n",
       "      <td>2.215215</td>\n",
       "      <td>3.608423</td>\n",
       "      <td>2.495049</td>\n",
       "      <td>3.102718</td>\n",
       "      <td>1.813312</td>\n",
       "    </tr>\n",
       "    <tr>\n",
       "      <th>min</th>\n",
       "      <td>1.000000</td>\n",
       "      <td>1.000000</td>\n",
       "      <td>1.000000</td>\n",
       "      <td>1.000000</td>\n",
       "      <td>1.000000</td>\n",
       "      <td>1.000000</td>\n",
       "      <td>1.000000</td>\n",
       "      <td>1.000000</td>\n",
       "      <td>1.000000</td>\n",
       "    </tr>\n",
       "    <tr>\n",
       "      <th>25%</th>\n",
       "      <td>2.000000</td>\n",
       "      <td>1.000000</td>\n",
       "      <td>1.000000</td>\n",
       "      <td>1.000000</td>\n",
       "      <td>2.000000</td>\n",
       "      <td>1.000000</td>\n",
       "      <td>2.000000</td>\n",
       "      <td>1.000000</td>\n",
       "      <td>1.000000</td>\n",
       "    </tr>\n",
       "    <tr>\n",
       "      <th>50%</th>\n",
       "      <td>4.000000</td>\n",
       "      <td>1.000000</td>\n",
       "      <td>2.000000</td>\n",
       "      <td>1.000000</td>\n",
       "      <td>2.000000</td>\n",
       "      <td>1.000000</td>\n",
       "      <td>3.000000</td>\n",
       "      <td>1.000000</td>\n",
       "      <td>1.000000</td>\n",
       "    </tr>\n",
       "    <tr>\n",
       "      <th>75%</th>\n",
       "      <td>6.000000</td>\n",
       "      <td>5.000000</td>\n",
       "      <td>5.000000</td>\n",
       "      <td>4.000000</td>\n",
       "      <td>4.000000</td>\n",
       "      <td>6.000000</td>\n",
       "      <td>5.000000</td>\n",
       "      <td>4.000000</td>\n",
       "      <td>1.000000</td>\n",
       "    </tr>\n",
       "    <tr>\n",
       "      <th>max</th>\n",
       "      <td>10.000000</td>\n",
       "      <td>10.000000</td>\n",
       "      <td>10.000000</td>\n",
       "      <td>10.000000</td>\n",
       "      <td>10.000000</td>\n",
       "      <td>10.000000</td>\n",
       "      <td>10.000000</td>\n",
       "      <td>10.000000</td>\n",
       "      <td>10.000000</td>\n",
       "    </tr>\n",
       "  </tbody>\n",
       "</table>\n",
       "</div>"
      ],
      "text/plain": [
       "       Clump_Thickness  Cell_Size_Uniformity  Cell_Shape_Uniformity  \\\n",
       "count       489.000000            489.000000             489.000000   \n",
       "mean          4.474438              3.186094               3.235174   \n",
       "std           2.899240              3.083558               2.985606   \n",
       "min           1.000000              1.000000               1.000000   \n",
       "25%           2.000000              1.000000               1.000000   \n",
       "50%           4.000000              1.000000               2.000000   \n",
       "75%           6.000000              5.000000               5.000000   \n",
       "max          10.000000             10.000000              10.000000   \n",
       "\n",
       "       Marginal_Adhesion  Single_Epi_Cell_Size  Bare_Nuclei  Bland_Chromatin  \\\n",
       "count         489.000000            489.000000   489.000000       489.000000   \n",
       "mean            2.901840              3.222904     3.545112         3.525562   \n",
       "std             2.953634              2.215215     3.608423         2.495049   \n",
       "min             1.000000              1.000000     1.000000         1.000000   \n",
       "25%             1.000000              2.000000     1.000000         2.000000   \n",
       "50%             1.000000              2.000000     1.000000         3.000000   \n",
       "75%             4.000000              4.000000     6.000000         5.000000   \n",
       "max            10.000000             10.000000    10.000000        10.000000   \n",
       "\n",
       "       Normal_Nucleoli  Bare_Nuclei.1  \n",
       "count       489.000000     489.000000  \n",
       "mean          2.934560       1.678937  \n",
       "std           3.102718       1.813312  \n",
       "min           1.000000       1.000000  \n",
       "25%           1.000000       1.000000  \n",
       "50%           1.000000       1.000000  \n",
       "75%           4.000000       1.000000  \n",
       "max          10.000000      10.000000  "
      ]
     },
     "execution_count": 58,
     "metadata": {},
     "output_type": "execute_result"
    }
   ],
   "source": [
    "train.describe()"
   ]
  },
  {
   "cell_type": "markdown",
   "metadata": {},
   "source": [
    "__Observations:__\n",
    "\n",
    "Note that the __minimum__ value across all features is 1 and that the __maximum__ is 10."
   ]
  },
  {
   "cell_type": "code",
   "execution_count": 59,
   "metadata": {},
   "outputs": [
    {
     "data": {
      "text/plain": [
       "<matplotlib.axes._subplots.AxesSubplot at 0x1fc703de668>"
      ]
     },
     "execution_count": 59,
     "metadata": {},
     "output_type": "execute_result"
    },
    {
     "data": {
      "image/png": "[encoded data removed]",
      "text/plain": [
       "<Figure size 720x720 with 2 Axes>"
      ]
     },
     "metadata": {},
     "output_type": "display_data"
    }
   ],
   "source": [
    "f,ax = plt.subplots(figsize=(10, 10))\n",
    "sns.heatmap(train.corr(), annot=True, linewidths=.5, fmt= '.1f',ax=ax)"
   ]
  },
  {
   "cell_type": "markdown",
   "metadata": {},
   "source": [
    "__Observations:__\n",
    "\n",
    "The __Cell_Size_Uniformity__ is highly correlated with __Cell_Shape_Uniformity__ and with __Bland_Chromatin__."
   ]
  },
  {
   "cell_type": "code",
   "execution_count": 60,
   "metadata": {},
   "outputs": [
    {
     "data": {
      "text/plain": [
       "(array([0, 1, 2, 3, 4, 5, 6, 7, 8]), <a list of 9 Text xticklabel objects>)"
      ]
     },
     "execution_count": 60,
     "metadata": {},
     "output_type": "execute_result"
    },
    {
     "data": {
      "image/png": "[encoded data removed]",
      "text/plain": [
       "<Figure size 864x864 with 1 Axes>"
      ]
     },
     "metadata": {},
     "output_type": "display_data"
    }
   ],
   "source": [
    "sns.set(style=\"whitegrid\", palette=\"muted\")\n",
    "data = pd.concat([train_y.map({1:'Malignant',0:'Benign'}),train],axis=1)\n",
    "data = pd.melt(data,id_vars=\"Class\",\n",
    "                    var_name=\"Features\",\n",
    "                    value_name='Value')\n",
    "plt.figure(figsize=(12,12))\n",
    "sns.swarmplot(x=\"Features\", y=\"Value\", hue=\"Class\", data=data)\n",
    "\n",
    "plt.xticks(rotation=90)"
   ]
  },
  {
   "cell_type": "markdown",
   "metadata": {},
   "source": [
    "__Observations:__\n",
    "\n",
    "All features across the Swarn plot are clear in terms of separating the classes with their values. __Higher__ values of __each__ feature tend to correspond to __malignant cells__ whereas __lower__ values tend to correspond to __benign cells__. \n",
    "\n",
    "__1) Clump_Thickness__\n",
    "\n",
    "Malignant for values belonging to __[7,10]__.\n",
    "\n",
    "Benign for values belonging to __[1,4]__.\n",
    "\n",
    "\n",
    "__2) Cell_Size_Uniformity__\n",
    " \n",
    "Malignant for values belonging to __[3,10]__.\n",
    "\n",
    "Benign for values belonging to __[1,2]__.\n",
    "\n",
    "\n",
    "__3) Cell_Shape_Uniformity__\n",
    " \n",
    "Malignant for values belonging to __[4,10]__.\n",
    "\n",
    "Benign for values belonging to __[1,3]__.\n",
    "\n",
    "\n",
    "__4) Marginal Adhesion__\n",
    " \n",
    "Malignant for values belonging to __[4,10]__.\n",
    "\n",
    "Benign for values belonging to __[1,3]__.\n",
    "\n",
    "\n",
    "__5) Single Epi Cell Size__\n",
    " \n",
    "Malignant for values belonging to __[7,10]__.\n",
    "\n",
    "Benign for values belonging to __[1,4]__.\n",
    "\n",
    "\n",
    "__6) Bare Nuclei__\n",
    "\n",
    "Malignant for values belonging to __[4,10]__.\n",
    "\n",
    "Benign for values belonging to __[1,2]__.\n",
    "\n",
    "\n",
    "__7) Bland Chromatin__\n",
    "\n",
    "Malignant for values belonging to __[4,10]__.\n",
    "\n",
    "Benign for values belonging to __[1,3]__.\n",
    "\n",
    "\n",
    "__8) Normal Nucleoli__\n",
    " \n",
    "Malignant for values belonging to __[4,10]__.\n",
    "\n",
    "Benign for values belonging to __[1,2]__.\n",
    "\n",
    "\n",
    "__9) Mitoses__\n",
    " \n",
    "Malignant for values belonging to __[2,10]__.\n",
    "\n",
    "Benign for values belonging to __[1]__.\n",
    "\n",
    "__Note:__ The intervals not refered for each feature are a __mix of both malignant and benign samples without a clear seperation__.\n",
    "\n",
    "Not only the feature __Cell_Size_Uniformity__ is highly correlated with __Cell_Shape_Uniformity__ and __Bland_Chromatin__, but also the seperation intervals are rather similar. Thus, we will drop __Cell_Shape_Uniformity__ and __Bland_Chromatin__."
   ]
  },
  {
   "cell_type": "code",
   "execution_count": 61,
   "metadata": {},
   "outputs": [],
   "source": [
    "train = train.drop(['Cell_Shape_Uniformity','Bland_Chromatin'], axis=1)\n",
    "test = test.drop(['Cell_Shape_Uniformity','Bland_Chromatin'], axis=1)"
   ]
  },
  {
   "cell_type": "markdown",
   "metadata": {},
   "source": [
    "# 4. Classification using Feature Selection"
   ]
  },
  {
   "cell_type": "code",
   "execution_count": 62,
   "metadata": {},
   "outputs": [],
   "source": [
    "def updateBest(best_score, best_hyp, *args):\n",
    "    for tupple in args:\n",
    "        best_hyp[tupple[0]] = tupple[1]\n",
    "    \n",
    "    print(\"New best set of values:\")\n",
    "    print(best_hyp)\n",
    "    print(\"Mean accuracy = \"+str(round(best_score,6))+\" (with 5-fold cross validation).\")\n",
    "    \n",
    "    return best_score, best_hyp"
   ]
  },
  {
   "cell_type": "markdown",
   "metadata": {},
   "source": [
    "## 4.1. Support Vector Machine"
   ]
  },
  {
   "cell_type": "code",
   "execution_count": 63,
   "metadata": {},
   "outputs": [],
   "source": [
    "def SVM_GridSearch(train, train_y, kernel, gamma, C):\n",
    "    best_score = 0\n",
    "    best_values_SVM = {}\n",
    "    start = time.time()\n",
    "    \n",
    "    for i in range(len(kernel)):\n",
    "        for j in range(len(gamma)):\n",
    "            for k in range(len(C)):\n",
    "                hyp1 = kernel[i]\n",
    "                hyp2 = gamma[j]\n",
    "                hyp3 = C[k]\n",
    "                \n",
    "                clf = svm.SVC(kernel=hyp1, gamma=hyp2, C=hyp3, degree=1)\n",
    "                score = cross_val_score(clf, train, train_y, cv=5).mean()\n",
    "                \n",
    "                if score > best_score:\n",
    "                    best_score, best_values_SVM = updateBest(score, best_values_SVM,\n",
    "                                                             ('kernel', hyp1), ('gamma', hyp2), ('C', hyp3))\n",
    "                    partial = time.time()\n",
    "                    print(\" found after \" + str(round(partial - start,2)) + \" seconds\\n\")\n",
    "\n",
    "    end = time.time()\n",
    "    \n",
    "    optimal_SVM = svm.SVC(kernel=best_values_SVM['kernel'], gamma=best_values_SVM['gamma'], \n",
    "                  C=best_values_SVM['C'], degree=1)\n",
    "    \n",
    "    best_score = round(best_score, 6)\n",
    "    print(\"The best values are:\")\n",
    "    print(best_values_SVM)\n",
    "    print(\"Best accuracy = \" + str(best_score)+\" (with 5-fold cross validation)\")\n",
    "    print(\" found in \" + str(round(end - start,2)) + \" seconds\")\n",
    "    \n",
    "    return optimal_SVM, best_score"
   ]
  },
  {
   "cell_type": "code",
   "execution_count": 64,
   "metadata": {},
   "outputs": [
    {
     "name": "stdout",
     "output_type": "stream",
     "text": [
      "New best set of values:\n",
      "{'kernel': 'rbf', 'gamma': 0.1, 'C': 0.1}\n",
      "Mean accuracy = 0.98161 (with 5-fold cross validation).\n",
      " found after 0.03 seconds\n",
      "\n",
      "New best set of values:\n",
      "{'kernel': 'rbf', 'gamma': 0.1, 'C': 1}\n",
      "Mean accuracy = 0.987733 (with 5-fold cross validation).\n",
      " found after 0.06 seconds\n",
      "\n",
      "New best set of values:\n",
      "{'kernel': 'rbf', 'gamma': 0.1, 'C': 10}\n",
      "Mean accuracy = 0.989753 (with 5-fold cross validation).\n",
      " found after 0.09 seconds\n",
      "\n",
      "The best values are:\n",
      "{'kernel': 'rbf', 'gamma': 0.1, 'C': 10}\n",
      "Best accuracy = 0.989753 (with 5-fold cross validation)\n",
      " found in 0.71 seconds\n"
     ]
    }
   ],
   "source": [
    "kernel = ['rbf','poly'] # different kernels\n",
    "gamma = [0.1, 1, 10] # gamma coefficient for RBF and polynomial (higher values tend to overfit data)\n",
    "C = [0.1, 1, 10, 100] # different penalties of the error term\n",
    "\n",
    "clf_SVM, best_score = SVM_GridSearch(train, train_y, kernel, gamma, C)"
   ]
  },
  {
   "cell_type": "code",
   "execution_count": 65,
   "metadata": {},
   "outputs": [
    {
     "name": "stdout",
     "output_type": "stream",
     "text": [
      "SVM mean accuracy in cross-validation: 98.975%\n"
     ]
    }
   ],
   "source": [
    "svm_ac = best_score\n",
    "print(\"SVM mean accuracy in cross-validation: {:.3%}\".format(svm_ac))"
   ]
  },
  {
   "cell_type": "markdown",
   "metadata": {},
   "source": [
    "## 4.2. Random forest"
   ]
  },
  {
   "cell_type": "code",
   "execution_count": 66,
   "metadata": {},
   "outputs": [],
   "source": [
    "def RandomForest_RandomSearch(train, train_y, min_samples_leaf_values, min_samples_split_values, \n",
    "                              max_depth_values, n_estimators_values, iterations=200):\n",
    "    best_score = 0\n",
    "    best_values_RF = {}\n",
    "    start = time.time()\n",
    "    \n",
    "    for i in range(1,iterations):\n",
    "        hyp1 = np.random.choice(a=min_samples_leaf_values)\n",
    "        hyp2 = np.random.choice(a=min_samples_split_values)\n",
    "        hyp3 = np.random.choice(a=max_depth_values)\n",
    "        hyp4 = np.random.choice(a=n_estimators_values)\n",
    "\n",
    "        clf = RandomForestClassifier(random_state=10, min_samples_leaf=hyp1, min_samples_split=hyp2, \n",
    "                                                    max_depth=hyp3, n_estimators=hyp4).fit(train, train_y)\n",
    "        \n",
    "        score = cross_val_score(clf, train, train_y, cv=5).mean()\n",
    "\n",
    "        if score > best_score:\n",
    "            best_score, best_values_RF = updateBest(score, best_values_RF,\n",
    "                                                    ('min_sample_leaf', hyp1), ('min_sample_split', hyp2), \n",
    "                                                    ('max_depth', hyp3), ('n_estimators', hyp4))\n",
    "            partial = time.time()\n",
    "            print(\" found after \" + str(round(partial - start,2)) + \" seconds\\n\")\n",
    "\n",
    "    end = time.time()\n",
    "\n",
    "    optimal_RF = RandomForestClassifier(random_state=10, min_samples_leaf=best_values_RF['min_sample_leaf'], min_samples_split=best_values_RF['min_sample_split'], \n",
    "                                                    max_depth=best_values_RF['max_depth'], n_estimators=best_values_RF['n_estimators']).fit(train, train_y)\n",
    "    best_score = round(best_score, 6)\n",
    "    print(\"The best values are:\")\n",
    "    print(best_values_RF)\n",
    "    print(\"Best mean accuracy = \" + str(best_score) +\" (with 5-fold cross validation).\")\n",
    "    print(\" found in \" + str(round(end - start,2)) + \" seconds.\")\n",
    "    \n",
    "    return optimal_RF, best_score"
   ]
  },
  {
   "cell_type": "code",
   "execution_count": 67,
   "metadata": {},
   "outputs": [
    {
     "name": "stdout",
     "output_type": "stream",
     "text": [
      "New best set of values:\n",
      "{'min_sample_leaf': 15, 'min_sample_split': 35, 'max_depth': 32, 'n_estimators': 125}\n",
      "Mean accuracy = 0.98159 (with 5-fold cross validation).\n",
      " found after 1.28 seconds\n",
      "\n",
      "New best set of values:\n",
      "{'min_sample_leaf': 4, 'min_sample_split': 17, 'max_depth': 76, 'n_estimators': 128}\n",
      "Mean accuracy = 0.983631 (with 5-fold cross validation).\n",
      " found after 2.62 seconds\n",
      "\n",
      "New best set of values:\n",
      "{'min_sample_leaf': 5, 'min_sample_split': 27, 'max_depth': 53, 'n_estimators': 148}\n",
      "Mean accuracy = 0.983672 (with 5-fold cross validation).\n",
      " found after 6.24 seconds\n",
      "\n",
      "New best set of values:\n",
      "{'min_sample_leaf': 1, 'min_sample_split': 25, 'max_depth': 78, 'n_estimators': 166}\n",
      "Mean accuracy = 0.987692 (with 5-fold cross validation).\n",
      " found after 32.52 seconds\n",
      "\n",
      "The best values are:\n",
      "{'min_sample_leaf': 1, 'min_sample_split': 25, 'max_depth': 78, 'n_estimators': 166}\n",
      "Best mean accuracy = 0.987692 (with 5-fold cross validation).\n",
      " found in 334.74 seconds.\n"
     ]
    }
   ],
   "source": [
    "min_samples_leaf_values = np.arange(1, 20, 1)\n",
    "min_samples_split_values = np.arange(2, 50, 1)\n",
    "max_depth_values = np.arange(1, 100, 1)\n",
    "n_estimators_values = np.arange(80,200,1)\n",
    "\n",
    "clf_RF, best_score = RandomForest_RandomSearch(train, train_y, min_samples_leaf_values, min_samples_split_values, \n",
    "                                                max_depth_values, n_estimators_values)"
   ]
  },
  {
   "cell_type": "code",
   "execution_count": 68,
   "metadata": {},
   "outputs": [
    {
     "name": "stdout",
     "output_type": "stream",
     "text": [
      "Random Forest mean accuracy in cross-validation: 98.769%\n"
     ]
    }
   ],
   "source": [
    "rf_ac = best_score\n",
    "print(\"Random Forest mean accuracy in cross-validation: {:.3%}\".format(rf_ac))"
   ]
  },
  {
   "cell_type": "markdown",
   "metadata": {},
   "source": [
    "## 4.3. KNearest Neighbors"
   ]
  },
  {
   "cell_type": "code",
   "execution_count": 69,
   "metadata": {},
   "outputs": [],
   "source": [
    "def KNN_RandomSearch(train, train_y, K, algorithm, leaf_size, distances, iterations=200):\n",
    "    best_score = 0\n",
    "    best_values_KNN = {}\n",
    "    start = time.time()\n",
    "\n",
    "    for i in range(1, iterations):\n",
    "        hyp1 = np.random.choice(a=K)\n",
    "        hyp2 = np.random.choice(a=algorithm)\n",
    "        hyp3 = np.random.choice(a=leaf_size)\n",
    "        hyp4 = np.random.choice(a=distances)\n",
    "\n",
    "        clf = KNeighborsClassifier(n_neighbors=hyp1, algorithm=hyp2, \n",
    "                                   leaf_size=hyp3, p=hyp4)\n",
    "        score = cross_val_score(clf, train, train_y, cv=5).mean()\n",
    "\n",
    "        if score > best_score:\n",
    "            best_score, best_values_KNN = updateBest(score, best_values_KNN,\n",
    "                                                    ('K', hyp1), ('algorithm', hyp2), \n",
    "                                                    ('leaf size', hyp3), ('distance metric', hyp4))\n",
    "            partial = time.time()\n",
    "            print(\" found after \" + str(round(partial - start,2)) + \" seconds\\n\")\n",
    "\n",
    "    end = time.time()\n",
    "\n",
    "    optimal_KNN = KNeighborsClassifier(n_neighbors=best_values_KNN['K'], algorithm=best_values_KNN['algorithm'], \n",
    "                                  leaf_size=best_values_KNN['leaf size'], p=best_values_KNN['distance metric'])\n",
    "    \n",
    "    best_score = round(best_score,6)\n",
    "    print(\"The best values are:\")\n",
    "    print(best_values_KNN)\n",
    "    print(\"Best accuracy = \" + str(best_score)+\" (with 5-fold cross validation).\")\n",
    "    print(\" found in \" + str(round(end - start,2)) + \" seconds\")\n",
    "    \n",
    "    return optimal_KNN, best_score"
   ]
  },
  {
   "cell_type": "code",
   "execution_count": 70,
   "metadata": {},
   "outputs": [
    {
     "name": "stdout",
     "output_type": "stream",
     "text": [
      "New best set of values:\n",
      "{'K': 7, 'algorithm': 'ball_tree', 'leaf size': 51, 'distance metric': 2}\n",
      "Mean accuracy = 0.983568 (with 5-fold cross validation).\n",
      " found after 0.12 seconds\n",
      "\n",
      "The best values are:\n",
      "{'K': 7, 'algorithm': 'ball_tree', 'leaf size': 51, 'distance metric': 2}\n",
      "Best accuracy = 0.983568 (with 5-fold cross validation).\n",
      " found in 3.88 seconds\n"
     ]
    }
   ],
   "source": [
    "K = [7, 9, 11, 13, 15, 17, 19, 21]\n",
    "algorithm = ['ball_tree','kd_tree']\n",
    "leaf_size = np.arange(20, 70, 1)\n",
    "distances = [1, 2]\n",
    "\n",
    "clf_KNN, best_score = KNN_RandomSearch(train, train_y, K, algorithm, leaf_size, distances)"
   ]
  },
  {
   "cell_type": "code",
   "execution_count": 71,
   "metadata": {},
   "outputs": [
    {
     "name": "stdout",
     "output_type": "stream",
     "text": [
      "KNN mean accuracy in cross-validation: 98.357%\n"
     ]
    }
   ],
   "source": [
    "knn_ac = best_score\n",
    "print(\"KNN mean accuracy in cross-validation: {:.3%}\".format(knn_ac))"
   ]
  },
  {
   "cell_type": "markdown",
   "metadata": {},
   "source": [
    "## 4.4. Feature selection results "
   ]
  },
  {
   "cell_type": "code",
   "execution_count": 72,
   "metadata": {},
   "outputs": [],
   "source": [
    "def getResults(fitted_classifier, features, true_labels):\n",
    "    prediction = fitted_classifier.predict(features)\n",
    "    cm = confusion_matrix(true_labels, prediction)\n",
    "    df_cm = pd.DataFrame(cm, index = [\"True class: Benign\",\"True class: Malign\"],\n",
    "                         columns = [\"Predicted class: Benign\",\"Predicted class: Malign\"])\n",
    "    plt.figure(figsize = (8,6))\n",
    "    sns.set(font_scale=1.1)\n",
    "    sns.heatmap(df_cm, annot=True, fmt=\"d\")\n",
    "    \n",
    "    ac = round(accuracy_score(true_labels, prediction), 3)\n",
    "    \n",
    "    # F1_score\n",
    "    f1score = round(f1_score(true_labels, prediction), 3)\n",
    "    recall_1 = (cm[1][1])/(cm[1][1]+cm[1][0])\n",
    "    recall_0 = (cm[0][0])/(cm[0][0]+cm[0][1])\n",
    "    precision_1 = (cm[1][1])/(cm[1][1]+cm[0][1])\n",
    "    precision_0 = (cm[0][0])/(cm[0][0]+cm[1][0])\n",
    "    \n",
    "    return ac, f1score, recall_1, recall_0, precision_1, precision_0\n",
    "\n",
    "def Sort(sub_li): \n",
    "    # reverse = None (Sorts in Ascending order) \n",
    "    # key is set to sort using second element of the sublist\n",
    "    return(sorted(sub_li, key = lambda x: x[2], reverse=True)) \n",
    "\n",
    "def choose_best(acc_svm, clf_SVM, acc_rf, clf_RF, acc_knn, clf_KNN):\n",
    "    scores = [['SVM', clf_SVM, acc_svm],['Random Forest', clf_RF, acc_rf],['KNN', clf_KNN, acc_knn]]\n",
    "    sorted_scores = Sort(scores)\n",
    "    best_classifier = sorted_scores[0]\n",
    "    \n",
    "    if best_classifier[2] == sorted_scores[1][2]:\n",
    "        print(\"There is a tie in Accuracy between {} and {} classifiers.\".format(best_classifier[0],\n",
    "                                                                                   sorted_scores[1][0]))\n",
    "        print(\"{} classifier was chosen\\n\".format(best_classifier[0]))\n",
    "        \n",
    "    elif best_classifier[2] == sorted_scores[1][2] and sorted_scores[1][2] == sorted_scores[2][2]:\n",
    "        print(\"There is a tie in Accuracy between {}, {} and {} classifiers.\".format(best_classifier[0],\n",
    "                                                                                       sorted_scores[1][0],\n",
    "                                                                                       sorted_scores[2][0]))\n",
    "        print(\"{} classifier was chosen\\n\".format(best_classifier[0]))\n",
    "    else:\n",
    "        pass\n",
    "    return best_classifier"
   ]
  },
  {
   "cell_type": "code",
   "execution_count": 73,
   "metadata": {},
   "outputs": [
    {
     "name": "stdout",
     "output_type": "stream",
     "text": [
      "The best classifier is SVM with Accuracy = 98.98% in 5-fold cross validation.\n",
      "\n",
      "Accuracy in test set with SVM classifier: 0.986\n",
      "\n",
      "F1-score in test set with SVM classifier: 0.98\n",
      "\n"
     ]
    },
    {
     "data": {
      "image/png": "[encoded data removed]",
      "text/plain": [
       "<Figure size 576x432 with 2 Axes>"
      ]
     },
     "metadata": {},
     "output_type": "display_data"
    }
   ],
   "source": [
    "best_classifier_FS = choose_best(svm_ac, clf_SVM, rf_ac, clf_RF, knn_ac, clf_KNN)\n",
    "print(\"The best classifier is {} with Accuracy = {:.2%} in 5-fold cross validation.\\n\".format(best_classifier_FS[0],\n",
    "                                                                best_classifier_FS[2]))\n",
    "\n",
    "fitted_clf_FS = best_classifier_FS[1].fit(train,train_y)\n",
    "ac_FS, f1_FS, r1_FS, r0_FS, p1_FS, p0_FS = getResults(fitted_clf_FS, test, test_y)\n",
    "print(\"Accuracy in test set with {} classifier: {}\\n\".format(best_classifier_FS[0], ac_FS))\n",
    "print(\"F1-score in test set with {} classifier: {}\\n\".format(best_classifier_FS[0], f1_FS))"
   ]
  },
  {
   "cell_type": "markdown",
   "metadata": {},
   "source": [
    "The classifier __Random Forest__ was the one that the best results regarding the mean accuracy in the validations sets of the 5-fold cross validation. Thus, we choose it to apply to the test set. \n",
    "\n",
    "__Results:__\n",
    "\n",
    "__Accuracy__ in __test__ set with __Random Forest__ classifier: __95.7%__.\n",
    "\n",
    "__F1-score__ in __test__ set with __Random Forest__ classifier: __93.4%__."
   ]
  },
  {
   "cell_type": "markdown",
   "metadata": {},
   "source": [
    "# 5. Apply PCA instead of Feature Selection"
   ]
  },
  {
   "cell_type": "code",
   "execution_count": 74,
   "metadata": {},
   "outputs": [],
   "source": [
    "def get_N_PC(N, train, test):\n",
    "    pca = PCA(n_components=N)\n",
    "    principalComponents = pca.fit_transform(train)\n",
    "    \n",
    "    train = pd.DataFrame(data=principalComponents, columns=[\"PC\"+str(i) for i in range(1, N+1)])\n",
    "    principalComponents = pca.fit_transform(test)\n",
    "    \n",
    "    test = pd.DataFrame(data=principalComponents, columns=[\"PC\"+str(i) for i in range(1, N+1)])\n",
    "    return train, test"
   ]
  },
  {
   "cell_type": "markdown",
   "metadata": {},
   "source": [
    "## 5.1. Split dataset into train a test set"
   ]
  },
  {
   "cell_type": "code",
   "execution_count": 75,
   "metadata": {},
   "outputs": [
    {
     "name": "stdout",
     "output_type": "stream",
     "text": [
      "Train size: 489 samples.\n",
      "Test size: 210 samples.\n"
     ]
    }
   ],
   "source": [
    "train, test = train_test_split(dataset, test_size=0.3, random_state=10)\n",
    "train_y = train.Class\n",
    "test_y = test.Class\n",
    "print(\"Train size: {} samples.\".format(len(train)))\n",
    "print(\"Test size: {} samples.\".format(len(test)))\n",
    "train = train.drop(['Class'],axis = 1)\n",
    "test = test.drop(['Class'],axis = 1)"
   ]
  },
  {
   "cell_type": "markdown",
   "metadata": {},
   "source": [
    "## 5.2. Explained variance of PCA"
   ]
  },
  {
   "cell_type": "code",
   "execution_count": 76,
   "metadata": {},
   "outputs": [
    {
     "name": "stdout",
     "output_type": "stream",
     "text": [
      "# of Principal Components: 1 \n",
      "Total variance explained: 69.5\n",
      "\n",
      "# of Principal Components: 2 \n",
      "Total variance explained: 76.7\n",
      "\n",
      "# of Principal Components: 3 \n",
      "Total variance explained: 82.5\n",
      "\n",
      "# of Principal Components: 4 \n",
      "Total variance explained: 86.9\n",
      "\n",
      "# of Principal Components: 5 \n",
      "Total variance explained: 90.6\n",
      "\n",
      "# of Principal Components: 6 \n",
      "Total variance explained: 94.2\n",
      "\n"
     ]
    },
    {
     "data": {
      "image/png": "[encoded data removed]",
      "text/plain": [
       "<Figure size 576x432 with 1 Axes>"
      ]
     },
     "metadata": {},
     "output_type": "display_data"
    }
   ],
   "source": [
    "pca = PCA()\n",
    "pca.fit(train)\n",
    "explained_var = pca.explained_variance_ratio_ # calculate variance ratios\n",
    "pcas_vars = np.cumsum(np.round(explained_var, decimals=3)*100)\n",
    "pcas_vars = np.insert(pcas_vars, 0, 0) # insert a 0 in first position for plotting\n",
    "\n",
    "plt.figure(1, figsize=(8, 6))\n",
    "plt.ylabel('% Variance Explained')\n",
    "plt.xlabel('# of Principal Components')\n",
    "plt.title('PCA Analysis')\n",
    "plt.style.context('seaborn-whitegrid')\n",
    "plt.plot(pcas_vars)\n",
    "\n",
    "for i in range(1, len(pcas_vars)):\n",
    "    if pcas_vars[i] >= 95:\n",
    "        break\n",
    "    print(\"# of Principal Components: {} \\nTotal variance explained: {}\\n\".format(i, round(pcas_vars[i], 1)))"
   ]
  },
  {
   "cell_type": "markdown",
   "metadata": {},
   "source": [
    "__Observations:__\n",
    "\n",
    "To achieve a __percentage of variance explained above 80%__ we need __3 Principal Components__, whereas to achieve above __90%__ we need __5 Principal components__."
   ]
  },
  {
   "cell_type": "markdown",
   "metadata": {},
   "source": [
    "## 5.3. Eigenvectors of First Principal Component"
   ]
  },
  {
   "cell_type": "code",
   "execution_count": 77,
   "metadata": {},
   "outputs": [],
   "source": [
    "def bar_EigenVectors(train, component, title,threshold=0.3):\n",
    "    objects = train.columns\n",
    "    y_pos = np.arange(len(objects))\n",
    "    values = component\n",
    "\n",
    "    colors = []\n",
    "    for value in component:\n",
    "        if abs(value) >= threshold:\n",
    "            colors.append('r')\n",
    "        else:\n",
    "            colors.append('b')\n",
    "\n",
    "    plt.barh(y_pos, values, align='center', alpha=0.5, color=colors)\n",
    "    plt.yticks(y_pos, objects)\n",
    "    plt.xlabel('Value')\n",
    "    plt.title('Eigenvector coefficients of '+title+' PC')\n",
    "    plt.show()"
   ]
  },
  {
   "cell_type": "code",
   "execution_count": 78,
   "metadata": {},
   "outputs": [
    {
     "data": {
      "image/png": "[encoded data removed]",
      "text/plain": [
       "<Figure size 432x288 with 1 Axes>"
      ]
     },
     "metadata": {},
     "output_type": "display_data"
    }
   ],
   "source": [
    "bar_EigenVectors(train, pca.components_[0], 'First', threshold=0.3)"
   ]
  },
  {
   "cell_type": "code",
   "execution_count": 79,
   "metadata": {},
   "outputs": [
    {
     "data": {
      "image/png": "[encoded data removed]",
      "text/plain": [
       "<Figure size 432x288 with 1 Axes>"
      ]
     },
     "metadata": {},
     "output_type": "display_data"
    }
   ],
   "source": [
    "bar_EigenVectors(train, pca.components_[1], 'Second', threshold=0.3)"
   ]
  },
  {
   "cell_type": "markdown",
   "metadata": {},
   "source": [
    "__Observations:__\n",
    "\n",
    "The __first principal component__ is a __weighted sum__ of __Normal_Nucleoli, Bare_Nuclei, Marginal_Adhesion, Cell_Shape_Uniformity, Cell_Size_Uniformity and ClumpThickness__. Samples with a __high first principal component__ will have high values of these features. \n",
    "\n",
    "The __second principal component__ is __weighted difference__ between __Normal_Nucleoli__ and __Bare_Nuclei__. Samples with a __high value of the second principal component__ will have a contrast of these two features. "
   ]
  },
  {
   "cell_type": "markdown",
   "metadata": {},
   "source": [
    "# 6. Classification using the first 3 Principal Components (82.5% variance explained)"
   ]
  },
  {
   "cell_type": "code",
   "execution_count": 80,
   "metadata": {},
   "outputs": [
    {
     "data": {
      "text/html": [
       "<div>\n",
       "<style scoped>\n",
       "    .dataframe tbody tr th:only-of-type {\n",
       "        vertical-align: middle;\n",
       "    }\n",
       "\n",
       "    .dataframe tbody tr th {\n",
       "        vertical-align: top;\n",
       "    }\n",
       "\n",
       "    .dataframe thead th {\n",
       "        text-align: right;\n",
       "    }\n",
       "</style>\n",
       "<table border=\"1\" class=\"dataframe\">\n",
       "  <thead>\n",
       "    <tr style=\"text-align: right;\">\n",
       "      <th></th>\n",
       "      <th>PC1</th>\n",
       "      <th>PC2</th>\n",
       "      <th>PC3</th>\n",
       "    </tr>\n",
       "  </thead>\n",
       "  <tbody>\n",
       "    <tr>\n",
       "      <th>0</th>\n",
       "      <td>-6.382529</td>\n",
       "      <td>0.577134</td>\n",
       "      <td>-1.210040</td>\n",
       "    </tr>\n",
       "    <tr>\n",
       "      <th>1</th>\n",
       "      <td>-4.822771</td>\n",
       "      <td>-0.211782</td>\n",
       "      <td>0.492541</td>\n",
       "    </tr>\n",
       "    <tr>\n",
       "      <th>2</th>\n",
       "      <td>-5.472595</td>\n",
       "      <td>0.120914</td>\n",
       "      <td>0.207673</td>\n",
       "    </tr>\n",
       "    <tr>\n",
       "      <th>3</th>\n",
       "      <td>-4.776987</td>\n",
       "      <td>0.073181</td>\n",
       "      <td>1.070077</td>\n",
       "    </tr>\n",
       "    <tr>\n",
       "      <th>4</th>\n",
       "      <td>2.094454</td>\n",
       "      <td>0.267241</td>\n",
       "      <td>5.545279</td>\n",
       "    </tr>\n",
       "  </tbody>\n",
       "</table>\n",
       "</div>"
      ],
      "text/plain": [
       "        PC1       PC2       PC3\n",
       "0 -6.382529  0.577134 -1.210040\n",
       "1 -4.822771 -0.211782  0.492541\n",
       "2 -5.472595  0.120914  0.207673\n",
       "3 -4.776987  0.073181  1.070077\n",
       "4  2.094454  0.267241  5.545279"
      ]
     },
     "execution_count": 80,
     "metadata": {},
     "output_type": "execute_result"
    }
   ],
   "source": [
    "train_3PC, test_3PC = get_N_PC(3, train, test)\n",
    "train_3PC.head()"
   ]
  },
  {
   "cell_type": "markdown",
   "metadata": {},
   "source": [
    "## 6.1. Support Vector Machine"
   ]
  },
  {
   "cell_type": "code",
   "execution_count": 81,
   "metadata": {},
   "outputs": [
    {
     "name": "stdout",
     "output_type": "stream",
     "text": [
      "New best set of values:\n",
      "{'kernel': 'rbf', 'gamma': 0.1, 'C': 0.1}\n",
      "Mean accuracy = 0.991815 (with 5-fold cross validation).\n",
      " found after 0.01 seconds\n",
      "\n",
      "New best set of values:\n",
      "{'kernel': 'poly', 'gamma': 0.1, 'C': 1}\n",
      "Mean accuracy = 0.993835 (with 5-fold cross validation).\n",
      " found after 0.48 seconds\n",
      "\n",
      "The best values are:\n",
      "{'kernel': 'poly', 'gamma': 0.1, 'C': 1}\n",
      "Best accuracy = 0.993835 (with 5-fold cross validation)\n",
      " found in 0.76 seconds\n"
     ]
    }
   ],
   "source": [
    "kernel = ['rbf','poly'] # different kernels\n",
    "gamma = [0.1, 1, 10] # gamma coefficient for RBF and polynomial (higher values tend to overfit data)\n",
    "C = [0.1, 1, 10, 100] # different penalties of the error term\n",
    "\n",
    "clf_SVM, best_score = SVM_GridSearch(train_3PC, train_y, kernel, gamma, C)"
   ]
  },
  {
   "cell_type": "code",
   "execution_count": 82,
   "metadata": {},
   "outputs": [
    {
     "name": "stdout",
     "output_type": "stream",
     "text": [
      "SVM mean accuracy in cross-validation: 99.383%\n"
     ]
    }
   ],
   "source": [
    "svm_ac = best_score\n",
    "print(\"SVM mean accuracy in cross-validation: {:.3%}\".format(svm_ac))"
   ]
  },
  {
   "cell_type": "markdown",
   "metadata": {},
   "source": [
    "## 6.2. Random Forest"
   ]
  },
  {
   "cell_type": "code",
   "execution_count": 83,
   "metadata": {},
   "outputs": [
    {
     "name": "stdout",
     "output_type": "stream",
     "text": [
      "New best set of values:\n",
      "{'min_sample_leaf': 5, 'min_sample_split': 40, 'max_depth': 11, 'n_estimators': 106}\n",
      "Mean accuracy = 0.989837 (with 5-fold cross validation).\n",
      " found after 1.22 seconds\n",
      "\n",
      "New best set of values:\n",
      "{'min_sample_leaf': 15, 'min_sample_split': 19, 'max_depth': 39, 'n_estimators': 141}\n",
      "Mean accuracy = 0.991815 (with 5-fold cross validation).\n",
      " found after 4.11 seconds\n",
      "\n",
      "New best set of values:\n",
      "{'min_sample_leaf': 7, 'min_sample_split': 25, 'max_depth': 45, 'n_estimators': 138}\n",
      "Mean accuracy = 0.991857 (with 5-fold cross validation).\n",
      " found after 21.24 seconds\n",
      "\n",
      "New best set of values:\n",
      "{'min_sample_leaf': 1, 'min_sample_split': 15, 'max_depth': 51, 'n_estimators': 123}\n",
      "Mean accuracy = 0.993919 (with 5-fold cross validation).\n",
      " found after 67.29 seconds\n",
      "\n",
      "The best values are:\n",
      "{'min_sample_leaf': 1, 'min_sample_split': 15, 'max_depth': 51, 'n_estimators': 123}\n",
      "Best mean accuracy = 0.993919 (with 5-fold cross validation).\n",
      " found in 327.71 seconds.\n"
     ]
    }
   ],
   "source": [
    "min_samples_leaf_values = np.arange(1, 20, 1)\n",
    "min_samples_split_values = np.arange(2, 50, 1)\n",
    "max_depth_values = np.arange(1, 100, 1)\n",
    "n_estimators_values = np.arange(80,200,1)\n",
    "\n",
    "clf_RF, best_score = RandomForest_RandomSearch(train_3PC, train_y, min_samples_leaf_values, min_samples_split_values, \n",
    "                                                max_depth_values, n_estimators_values)"
   ]
  },
  {
   "cell_type": "code",
   "execution_count": 84,
   "metadata": {},
   "outputs": [
    {
     "name": "stdout",
     "output_type": "stream",
     "text": [
      "Random Forest mean accuracy in cross-validation: 99.392%\n"
     ]
    }
   ],
   "source": [
    "rf_ac = best_score\n",
    "print(\"Random Forest mean accuracy in cross-validation: {:.3%}\".format(rf_ac))"
   ]
  },
  {
   "cell_type": "markdown",
   "metadata": {},
   "source": [
    "## 6.3. KNearest Neighbors"
   ]
  },
  {
   "cell_type": "code",
   "execution_count": 85,
   "metadata": {},
   "outputs": [
    {
     "name": "stdout",
     "output_type": "stream",
     "text": [
      "New best set of values:\n",
      "{'K': 21, 'algorithm': 'kd_tree', 'leaf size': 47, 'distance metric': 1}\n",
      "Mean accuracy = 0.979507 (with 5-fold cross validation).\n",
      " found after 0.02 seconds\n",
      "\n",
      "New best set of values:\n",
      "{'K': 9, 'algorithm': 'kd_tree', 'leaf size': 26, 'distance metric': 2}\n",
      "Mean accuracy = 0.989753 (with 5-fold cross validation).\n",
      " found after 0.04 seconds\n",
      "\n",
      "The best values are:\n",
      "{'K': 9, 'algorithm': 'kd_tree', 'leaf size': 26, 'distance metric': 2}\n",
      "Best accuracy = 0.989753 (with 5-fold cross validation).\n",
      " found in 3.06 seconds\n"
     ]
    }
   ],
   "source": [
    "K = [7, 9, 11, 13, 15, 17, 19, 21]\n",
    "algorithm = ['ball_tree','kd_tree']\n",
    "leaf_size = np.arange(20, 70, 1)\n",
    "distances = [1, 2]\n",
    "\n",
    "clf_KNN, best_score = KNN_RandomSearch(train_3PC, train_y, K, algorithm, leaf_size, distances)"
   ]
  },
  {
   "cell_type": "code",
   "execution_count": 86,
   "metadata": {},
   "outputs": [
    {
     "name": "stdout",
     "output_type": "stream",
     "text": [
      "KNN mean accuracy in cross-validation: 98.975%\n"
     ]
    }
   ],
   "source": [
    "knn_ac = best_score\n",
    "print(\"KNN mean accuracy in cross-validation: {:.3%}\".format(knn_ac))"
   ]
  },
  {
   "cell_type": "markdown",
   "metadata": {},
   "source": [
    "## 6.4. First 3 Principal Components results"
   ]
  },
  {
   "cell_type": "code",
   "execution_count": 87,
   "metadata": {},
   "outputs": [
    {
     "name": "stdout",
     "output_type": "stream",
     "text": [
      "The best classifier is Random Forest with Accuracy = 99.39% in 5-fold cross validation.\n",
      "\n",
      "Accuracy in test set with Random Forest classifier: 0.976\n",
      "\n",
      "F1-score in test set with Random Forest classifier: 0.967\n",
      "\n"
     ]
    },
    {
     "data": {
      "image/png": "[encoded data removed]",
      "text/plain": [
       "<Figure size 576x432 with 2 Axes>"
      ]
     },
     "metadata": {},
     "output_type": "display_data"
    }
   ],
   "source": [
    "best_classifier_3PC = choose_best(svm_ac, clf_SVM, rf_ac, clf_RF, knn_ac, clf_KNN)\n",
    "print(\"The best classifier is {} with Accuracy = {:.2%} in 5-fold cross validation.\\n\".format(best_classifier_3PC[0],\n",
    "                                                                best_classifier_3PC[2]))\n",
    "\n",
    "fitted_clf_3PC = best_classifier_3PC[1].fit(train_3PC,train_y)\n",
    "ac_3PC, f1_3PC, r1_3PC, r0_3PC, p1_3PC, p0_3PC = getResults(fitted_clf_3PC, test_3PC, test_y)\n",
    "print(\"Accuracy in test set with {} classifier: {}\\n\".format(best_classifier_3PC[0], ac_3PC))\n",
    "print(\"F1-score in test set with {} classifier: {}\\n\".format(best_classifier_3PC[0], f1_3PC))"
   ]
  },
  {
   "cell_type": "markdown",
   "metadata": {},
   "source": [
    "The classifier __SVM__ was the one that the best results regarding the mean accuracy in the validations sets of the 5-fold cross validation. Thus, we choose it to apply to the test set. \n",
    "\n",
    "__Results:__\n",
    "\n",
    "__Accuracy__ in __test__ set with __SVM__ classifier: __95.2%__.\n",
    "\n",
    "__F1-score__ in __test__ set with __SVM__ classifier: __92.8%__."
   ]
  },
  {
   "cell_type": "markdown",
   "metadata": {},
   "source": [
    "# 7. Classification using the first 5 Principal Components (90.6% variance explained)"
   ]
  },
  {
   "cell_type": "code",
   "execution_count": 88,
   "metadata": {},
   "outputs": [
    {
     "data": {
      "text/html": [
       "<div>\n",
       "<style scoped>\n",
       "    .dataframe tbody tr th:only-of-type {\n",
       "        vertical-align: middle;\n",
       "    }\n",
       "\n",
       "    .dataframe tbody tr th {\n",
       "        vertical-align: top;\n",
       "    }\n",
       "\n",
       "    .dataframe thead th {\n",
       "        text-align: right;\n",
       "    }\n",
       "</style>\n",
       "<table border=\"1\" class=\"dataframe\">\n",
       "  <thead>\n",
       "    <tr style=\"text-align: right;\">\n",
       "      <th></th>\n",
       "      <th>PC1</th>\n",
       "      <th>PC2</th>\n",
       "      <th>PC3</th>\n",
       "      <th>PC4</th>\n",
       "      <th>PC5</th>\n",
       "    </tr>\n",
       "  </thead>\n",
       "  <tbody>\n",
       "    <tr>\n",
       "      <th>0</th>\n",
       "      <td>-6.382529</td>\n",
       "      <td>0.577134</td>\n",
       "      <td>-1.210040</td>\n",
       "      <td>-0.270986</td>\n",
       "      <td>0.916689</td>\n",
       "    </tr>\n",
       "    <tr>\n",
       "      <th>1</th>\n",
       "      <td>-4.822771</td>\n",
       "      <td>-0.211782</td>\n",
       "      <td>0.492541</td>\n",
       "      <td>0.677601</td>\n",
       "      <td>-0.921047</td>\n",
       "    </tr>\n",
       "    <tr>\n",
       "      <th>2</th>\n",
       "      <td>-5.472595</td>\n",
       "      <td>0.120914</td>\n",
       "      <td>0.207673</td>\n",
       "      <td>0.063776</td>\n",
       "      <td>-0.103926</td>\n",
       "    </tr>\n",
       "    <tr>\n",
       "      <th>3</th>\n",
       "      <td>-4.776987</td>\n",
       "      <td>0.073181</td>\n",
       "      <td>1.070077</td>\n",
       "      <td>0.457793</td>\n",
       "      <td>-0.281946</td>\n",
       "    </tr>\n",
       "    <tr>\n",
       "      <th>4</th>\n",
       "      <td>2.094454</td>\n",
       "      <td>0.267241</td>\n",
       "      <td>5.545279</td>\n",
       "      <td>3.626925</td>\n",
       "      <td>2.070584</td>\n",
       "    </tr>\n",
       "  </tbody>\n",
       "</table>\n",
       "</div>"
      ],
      "text/plain": [
       "        PC1       PC2       PC3       PC4       PC5\n",
       "0 -6.382529  0.577134 -1.210040 -0.270986  0.916689\n",
       "1 -4.822771 -0.211782  0.492541  0.677601 -0.921047\n",
       "2 -5.472595  0.120914  0.207673  0.063776 -0.103926\n",
       "3 -4.776987  0.073181  1.070077  0.457793 -0.281946\n",
       "4  2.094454  0.267241  5.545279  3.626925  2.070584"
      ]
     },
     "execution_count": 88,
     "metadata": {},
     "output_type": "execute_result"
    }
   ],
   "source": [
    "train_5PC, test_5PC = get_N_PC(5, train, test)\n",
    "train_5PC.head()"
   ]
  },
  {
   "cell_type": "markdown",
   "metadata": {},
   "source": [
    "## 7.1. Support Vector Machine"
   ]
  },
  {
   "cell_type": "code",
   "execution_count": 89,
   "metadata": {},
   "outputs": [
    {
     "name": "stdout",
     "output_type": "stream",
     "text": [
      "New best set of values:\n",
      "{'kernel': 'rbf', 'gamma': 0.1, 'C': 0.1}\n",
      "Mean accuracy = 0.983651 (with 5-fold cross validation).\n",
      " found after 0.03 seconds\n",
      "\n",
      "New best set of values:\n",
      "{'kernel': 'rbf', 'gamma': 0.1, 'C': 1}\n",
      "Mean accuracy = 0.993856 (with 5-fold cross validation).\n",
      " found after 0.06 seconds\n",
      "\n",
      "New best set of values:\n",
      "{'kernel': 'rbf', 'gamma': 0.1, 'C': 10}\n",
      "Mean accuracy = 0.993898 (with 5-fold cross validation).\n",
      " found after 0.1 seconds\n",
      "\n",
      "The best values are:\n",
      "{'kernel': 'rbf', 'gamma': 0.1, 'C': 10}\n",
      "Best accuracy = 0.993898 (with 5-fold cross validation)\n",
      " found in 0.7 seconds\n"
     ]
    }
   ],
   "source": [
    "kernel = ['rbf','poly'] # different kernels\n",
    "gamma = [0.1, 1, 10] # gamma coefficient for RBF and polynomial (higher values tend to overfit data)\n",
    "C = [0.1, 1, 10, 100] # different penalties of the error term\n",
    "\n",
    "clf_SVM, best_score = SVM_GridSearch(train_5PC, train_y, kernel, gamma, C)"
   ]
  },
  {
   "cell_type": "code",
   "execution_count": 90,
   "metadata": {},
   "outputs": [
    {
     "name": "stdout",
     "output_type": "stream",
     "text": [
      "SVM mean accuracy in cross-validation: 99.390%\n"
     ]
    }
   ],
   "source": [
    "svm_ac = best_score\n",
    "print(\"SVM mean accuracy in cross-validation: {:.3%}\".format(svm_ac))"
   ]
  },
  {
   "cell_type": "markdown",
   "metadata": {},
   "source": [
    "## 7.2. Random Forest"
   ]
  },
  {
   "cell_type": "code",
   "execution_count": 91,
   "metadata": {},
   "outputs": [
    {
     "name": "stdout",
     "output_type": "stream",
     "text": [
      "New best set of values:\n",
      "{'min_sample_leaf': 3, 'min_sample_split': 41, 'max_depth': 16, 'n_estimators': 145}\n",
      "Mean accuracy = 0.995897 (with 5-fold cross validation).\n",
      " found after 1.91 seconds\n",
      "\n",
      "The best values are:\n",
      "{'min_sample_leaf': 3, 'min_sample_split': 41, 'max_depth': 16, 'n_estimators': 145}\n",
      "Best mean accuracy = 0.995897 (with 5-fold cross validation).\n",
      " found in 333.84 seconds.\n"
     ]
    }
   ],
   "source": [
    "min_samples_leaf_values = np.arange(1, 20, 1)\n",
    "min_samples_split_values = np.arange(2, 50, 1)\n",
    "max_depth_values = np.arange(1, 100, 1)\n",
    "n_estimators_values = np.arange(80,200,1)\n",
    "\n",
    "clf_RF, best_score = RandomForest_RandomSearch(train_5PC, train_y, min_samples_leaf_values, min_samples_split_values, \n",
    "                                                max_depth_values, n_estimators_values)"
   ]
  },
  {
   "cell_type": "code",
   "execution_count": 92,
   "metadata": {},
   "outputs": [
    {
     "name": "stdout",
     "output_type": "stream",
     "text": [
      "Random Forest mean accuracy in cross-validation: 99.590%\n"
     ]
    }
   ],
   "source": [
    "rf_ac = best_score\n",
    "print(\"Random Forest mean accuracy in cross-validation: {:.3%}\".format(rf_ac))"
   ]
  },
  {
   "cell_type": "markdown",
   "metadata": {},
   "source": [
    "## 7.3. KNearest Neighbors"
   ]
  },
  {
   "cell_type": "code",
   "execution_count": 93,
   "metadata": {},
   "outputs": [
    {
     "name": "stdout",
     "output_type": "stream",
     "text": [
      "New best set of values:\n",
      "{'K': 19, 'algorithm': 'ball_tree', 'leaf size': 29, 'distance metric': 1}\n",
      "Mean accuracy = 0.975405 (with 5-fold cross validation).\n",
      " found after 0.02 seconds\n",
      "\n",
      "New best set of values:\n",
      "{'K': 21, 'algorithm': 'ball_tree', 'leaf size': 28, 'distance metric': 2}\n",
      "Mean accuracy = 0.979507 (with 5-fold cross validation).\n",
      " found after 0.04 seconds\n",
      "\n",
      "New best set of values:\n",
      "{'K': 9, 'algorithm': 'ball_tree', 'leaf size': 21, 'distance metric': 1}\n",
      "Mean accuracy = 0.981548 (with 5-fold cross validation).\n",
      " found after 0.08 seconds\n",
      "\n",
      "New best set of values:\n",
      "{'K': 9, 'algorithm': 'kd_tree', 'leaf size': 49, 'distance metric': 2}\n",
      "Mean accuracy = 0.985672 (with 5-fold cross validation).\n",
      " found after 0.19 seconds\n",
      "\n",
      "New best set of values:\n",
      "{'K': 7, 'algorithm': 'kd_tree', 'leaf size': 58, 'distance metric': 2}\n",
      "Mean accuracy = 0.987713 (with 5-fold cross validation).\n",
      " found after 0.78 seconds\n",
      "\n",
      "The best values are:\n",
      "{'K': 7, 'algorithm': 'kd_tree', 'leaf size': 58, 'distance metric': 2}\n",
      "Best accuracy = 0.987713 (with 5-fold cross validation).\n",
      " found in 3.52 seconds\n"
     ]
    }
   ],
   "source": [
    "K = [7, 9, 11, 13, 15, 17, 19, 21]\n",
    "algorithm = ['ball_tree','kd_tree']\n",
    "leaf_size = np.arange(20, 70, 1)\n",
    "distances = [1, 2]\n",
    "\n",
    "clf_KNN, best_score = KNN_RandomSearch(train_5PC, train_y, K, algorithm, leaf_size, distances)"
   ]
  },
  {
   "cell_type": "code",
   "execution_count": 94,
   "metadata": {},
   "outputs": [
    {
     "name": "stdout",
     "output_type": "stream",
     "text": [
      "KNN mean accuracy in cross-validation: 98.771%\n"
     ]
    }
   ],
   "source": [
    "knn_ac = best_score\n",
    "print(\"KNN mean accuracy in cross-validation: {:.3%}\".format(knn_ac))"
   ]
  },
  {
   "cell_type": "markdown",
   "metadata": {},
   "source": [
    "## 7.4. First 5 Principal components results"
   ]
  },
  {
   "cell_type": "code",
   "execution_count": 95,
   "metadata": {},
   "outputs": [
    {
     "name": "stdout",
     "output_type": "stream",
     "text": [
      "The best classifier is Random Forest with Accuracy = 99.59% in 5-fold cross validation.\n",
      "\n",
      "Accuracy in test set with Random Forest classifier: 0.976\n",
      "\n",
      "F1-score in test set with Random Forest classifier: 0.967\n",
      "\n"
     ]
    },
    {
     "data": {
      "image/png": "[encoded data removed]",
      "text/plain": [
       "<Figure size 576x432 with 2 Axes>"
      ]
     },
     "metadata": {},
     "output_type": "display_data"
    }
   ],
   "source": [
    "best_classifier_5PC = choose_best(svm_ac, clf_SVM, rf_ac, clf_RF, knn_ac, clf_KNN)\n",
    "print(\"The best classifier is {} with Accuracy = {:.2%} in 5-fold cross validation.\\n\".format(best_classifier_5PC[0],\n",
    "                                                                best_classifier_5PC[2]))\n",
    "\n",
    "fitted_clf_5PC = best_classifier_5PC[1].fit(train_5PC,train_y)\n",
    "ac_5PC, f1_5PC, r1_5PC, r0_5PC, p1_5PC, p0_5PC = getResults(fitted_clf_5PC, test_5PC, test_y)\n",
    "print(\"Accuracy in test set with {} classifier: {}\\n\".format(best_classifier_5PC[0], ac_5PC))\n",
    "print(\"F1-score in test set with {} classifier: {}\\n\".format(best_classifier_5PC[0], f1_5PC))"
   ]
  },
  {
   "cell_type": "markdown",
   "metadata": {},
   "source": [
    "The classifiers had the same results regarding the mean accuracy in the validations sets of the 5-fold cross validation. Thus, we choose one of it to apply to the test set. \n",
    "\n",
    "__Results:__\n",
    "\n",
    "__Accuracy__ in __test__ set with __Random Forest__ classifier: __94.3%__.\n",
    "\n",
    "__F1-score__ in __test__ set with __Random Forest__ classifier: __91.4%__."
   ]
  },
  {
   "cell_type": "markdown",
   "metadata": {},
   "source": [
    "# 8. Classification without a dimensionality reduction method "
   ]
  },
  {
   "cell_type": "code",
   "execution_count": 96,
   "metadata": {},
   "outputs": [
    {
     "name": "stdout",
     "output_type": "stream",
     "text": [
      "Train size: 489 samples.\n",
      "Test size: 210 samples.\n"
     ]
    }
   ],
   "source": [
    "train_no_DR, test_no_DR = train_test_split(dataset, test_size=0.3, random_state=10)\n",
    "train_y = train_no_DR.Class\n",
    "test_y = test_no_DR.Class\n",
    "print(\"Train size: {} samples.\".format(len(train)))\n",
    "print(\"Test size: {} samples.\".format(len(test)))\n",
    "train_no_DR = train_no_DR.drop(['Class'],axis = 1)\n",
    "test_no_DR = test_no_DR.drop(['Class'],axis = 1)"
   ]
  },
  {
   "cell_type": "markdown",
   "metadata": {},
   "source": [
    "## 8.1. Support Vector Machine"
   ]
  },
  {
   "cell_type": "code",
   "execution_count": 97,
   "metadata": {},
   "outputs": [
    {
     "name": "stdout",
     "output_type": "stream",
     "text": [
      "New best set of values:\n",
      "{'kernel': 'rbf', 'gamma': 0.1, 'C': 0.1}\n",
      "Mean accuracy = 0.967324 (with 5-fold cross validation).\n",
      " found after 0.04 seconds\n",
      "\n",
      "New best set of values:\n",
      "{'kernel': 'rbf', 'gamma': 0.1, 'C': 1}\n",
      "Mean accuracy = 0.989795 (with 5-fold cross validation).\n",
      " found after 0.07 seconds\n",
      "\n",
      "New best set of values:\n",
      "{'kernel': 'rbf', 'gamma': 0.1, 'C': 10}\n",
      "Mean accuracy = 0.993877 (with 5-fold cross validation).\n",
      " found after 0.1 seconds\n",
      "\n",
      "The best values are:\n",
      "{'kernel': 'rbf', 'gamma': 0.1, 'C': 10}\n",
      "Best accuracy = 0.993877 (with 5-fold cross validation)\n",
      " found in 0.76 seconds\n"
     ]
    }
   ],
   "source": [
    "kernel = ['rbf','poly'] # different kernels\n",
    "gamma = [0.1, 1, 10] # gamma coefficient for RBF and polynomial (higher values tend to overfit data)\n",
    "C = [0.1, 1, 10, 100] # different penalties of the error term\n",
    "\n",
    "clf_SVM, best_score = SVM_GridSearch(train_no_DR, train_y, kernel, gamma, C)"
   ]
  },
  {
   "cell_type": "code",
   "execution_count": 98,
   "metadata": {},
   "outputs": [
    {
     "name": "stdout",
     "output_type": "stream",
     "text": [
      "SVM mean accuracy in cross-validation: 99.388%\n"
     ]
    }
   ],
   "source": [
    "svm_ac = best_score\n",
    "print(\"SVM mean accuracy in cross-validation: {:.3%}\".format(svm_ac))"
   ]
  },
  {
   "cell_type": "markdown",
   "metadata": {},
   "source": [
    "## 8.2. Random Forest"
   ]
  },
  {
   "cell_type": "code",
   "execution_count": 99,
   "metadata": {},
   "outputs": [
    {
     "name": "stdout",
     "output_type": "stream",
     "text": [
      "New best set of values:\n",
      "{'min_sample_leaf': 18, 'min_sample_split': 26, 'max_depth': 68, 'n_estimators': 136}\n",
      "Mean accuracy = 0.975466 (with 5-fold cross validation).\n",
      " found after 1.45 seconds\n",
      "\n",
      "New best set of values:\n",
      "{'min_sample_leaf': 8, 'min_sample_split': 45, 'max_depth': 63, 'n_estimators': 143}\n",
      "Mean accuracy = 0.977528 (with 5-fold cross validation).\n",
      " found after 2.95 seconds\n",
      "\n",
      "New best set of values:\n",
      "{'min_sample_leaf': 3, 'min_sample_split': 45, 'max_depth': 30, 'n_estimators': 81}\n",
      "Mean accuracy = 0.983672 (with 5-fold cross validation).\n",
      " found after 5.48 seconds\n",
      "\n",
      "New best set of values:\n",
      "{'min_sample_leaf': 3, 'min_sample_split': 5, 'max_depth': 51, 'n_estimators': 123}\n",
      "Mean accuracy = 0.987754 (with 5-fold cross validation).\n",
      " found after 20.81 seconds\n",
      "\n",
      "New best set of values:\n",
      "{'min_sample_leaf': 3, 'min_sample_split': 6, 'max_depth': 60, 'n_estimators': 81}\n",
      "Mean accuracy = 0.989774 (with 5-fold cross validation).\n",
      " found after 27.31 seconds\n",
      "\n",
      "New best set of values:\n",
      "{'min_sample_leaf': 2, 'min_sample_split': 3, 'max_depth': 88, 'n_estimators': 149}\n",
      "Mean accuracy = 0.989795 (with 5-fold cross validation).\n",
      " found after 255.78 seconds\n",
      "\n",
      "The best values are:\n",
      "{'min_sample_leaf': 2, 'min_sample_split': 3, 'max_depth': 88, 'n_estimators': 149}\n",
      "Best mean accuracy = 0.989795 (with 5-fold cross validation).\n",
      " found in 321.49 seconds.\n"
     ]
    }
   ],
   "source": [
    "min_samples_leaf_values = np.arange(1, 20, 1)\n",
    "min_samples_split_values = np.arange(2, 50, 1)\n",
    "max_depth_values = np.arange(1, 100, 1)\n",
    "n_estimators_values = np.arange(80,200,1)\n",
    "\n",
    "clf_RF, best_score = RandomForest_RandomSearch(train_no_DR, train_y, min_samples_leaf_values, min_samples_split_values, \n",
    "                                                max_depth_values, n_estimators_values)"
   ]
  },
  {
   "cell_type": "code",
   "execution_count": 100,
   "metadata": {},
   "outputs": [
    {
     "name": "stdout",
     "output_type": "stream",
     "text": [
      "Random Forest mean accuracy in cross-validation: 98.980%\n"
     ]
    }
   ],
   "source": [
    "rf_ac = best_score\n",
    "print(\"Random Forest mean accuracy in cross-validation: {:.3%}\".format(rf_ac))"
   ]
  },
  {
   "cell_type": "markdown",
   "metadata": {},
   "source": [
    "## 8.3. KNearest Neighbors"
   ]
  },
  {
   "cell_type": "code",
   "execution_count": 101,
   "metadata": {},
   "outputs": [
    {
     "name": "stdout",
     "output_type": "stream",
     "text": [
      "New best set of values:\n",
      "{'K': 17, 'algorithm': 'kd_tree', 'leaf size': 59, 'distance metric': 1}\n",
      "Mean accuracy = 0.971323 (with 5-fold cross validation).\n",
      " found after 0.02 seconds\n",
      "\n",
      "New best set of values:\n",
      "{'K': 13, 'algorithm': 'ball_tree', 'leaf size': 39, 'distance metric': 2}\n",
      "Mean accuracy = 0.979507 (with 5-fold cross validation).\n",
      " found after 0.05 seconds\n",
      "\n",
      "New best set of values:\n",
      "{'K': 9, 'algorithm': 'ball_tree', 'leaf size': 60, 'distance metric': 2}\n",
      "Mean accuracy = 0.981569 (with 5-fold cross validation).\n",
      " found after 0.22 seconds\n",
      "\n",
      "New best set of values:\n",
      "{'K': 7, 'algorithm': 'ball_tree', 'leaf size': 29, 'distance metric': 2}\n",
      "Mean accuracy = 0.983568 (with 5-fold cross validation).\n",
      " found after 0.25 seconds\n",
      "\n",
      "New best set of values:\n",
      "{'K': 7, 'algorithm': 'ball_tree', 'leaf size': 49, 'distance metric': 2}\n",
      "Mean accuracy = 0.983589 (with 5-fold cross validation).\n",
      " found after 0.42 seconds\n",
      "\n",
      "The best values are:\n",
      "{'K': 7, 'algorithm': 'ball_tree', 'leaf size': 49, 'distance metric': 2}\n",
      "Best accuracy = 0.983589 (with 5-fold cross validation).\n",
      " found in 4.24 seconds\n"
     ]
    }
   ],
   "source": [
    "K = [7, 9, 11, 13, 15, 17, 19, 21]\n",
    "algorithm = ['ball_tree','kd_tree']\n",
    "leaf_size = np.arange(20, 70, 1)\n",
    "distances = [1, 2]\n",
    "\n",
    "clf_KNN, best_score = KNN_RandomSearch(train_no_DR, train_y, K, algorithm, leaf_size, distances)"
   ]
  },
  {
   "cell_type": "code",
   "execution_count": 102,
   "metadata": {},
   "outputs": [
    {
     "name": "stdout",
     "output_type": "stream",
     "text": [
      "KNN mean accuracy in cross-validation: 98.359%\n"
     ]
    }
   ],
   "source": [
    "knn_ac = best_score\n",
    "print(\"KNN mean accuracy in cross-validation: {:.3%}\".format(knn_ac))"
   ]
  },
  {
   "cell_type": "markdown",
   "metadata": {},
   "source": [
    "## 8.4. Without a dimensionality reduction method results"
   ]
  },
  {
   "cell_type": "code",
   "execution_count": 103,
   "metadata": {},
   "outputs": [
    {
     "name": "stdout",
     "output_type": "stream",
     "text": [
      "The best classifier is SVM with Accuracy = 99.39% in 5-fold cross validation.\n",
      "\n",
      "Accuracy in test set with SVM classifier: 0.995\n",
      "\n",
      "F1-score in test set with SVM classifier: 0.993\n",
      "\n"
     ]
    },
    {
     "data": {
      "image/png": "[encoded data removed]",
      "text/plain": [
       "<Figure size 576x432 with 2 Axes>"
      ]
     },
     "metadata": {},
     "output_type": "display_data"
    }
   ],
   "source": [
    "best_classifier_no_DR = choose_best(svm_ac, clf_SVM, rf_ac, clf_RF, knn_ac, clf_KNN)\n",
    "print(\"The best classifier is {} with Accuracy = {:.2%} in 5-fold cross validation.\\n\".format(best_classifier_no_DR[0],\n",
    "                                                                best_classifier_no_DR[2]))\n",
    "\n",
    "fitted_clf_no_DR = best_classifier_no_DR[1].fit(train_no_DR,train_y)\n",
    "ac_no_DR, f1_no_DR, r1_no_DR, r0_no_DR, p1_no_DR, p0_no_DR = getResults(fitted_clf_no_DR, test_no_DR, test_y)\n",
    "print(\"Accuracy in test set with {} classifier: {}\\n\".format(best_classifier_no_DR[0], ac_no_DR))\n",
    "print(\"F1-score in test set with {} classifier: {}\\n\".format(best_classifier_no_DR[0], f1_no_DR))"
   ]
  },
  {
   "cell_type": "markdown",
   "metadata": {},
   "source": [
    "The classifiers had the same results regarding the mean accuracy in the validations sets of the 5-fold cross validation. Thus, we choose one of it to apply to the test set. \n",
    "\n",
    "__Results:__\n",
    "\n",
    "__Accuracy__ in __test__ set with __SVM__ classifier: __95.2%__.\n",
    "\n",
    "__F1-score__ in __test__ set with __SVM__ classifier: __92.6%__."
   ]
  },
  {
   "cell_type": "markdown",
   "metadata": {},
   "source": [
    "# 9. Classification problem results"
   ]
  },
  {
   "cell_type": "code",
   "execution_count": 104,
   "metadata": {},
   "outputs": [
    {
     "data": {
      "text/html": [
       "<div>\n",
       "<style scoped>\n",
       "    .dataframe tbody tr th:only-of-type {\n",
       "        vertical-align: middle;\n",
       "    }\n",
       "\n",
       "    .dataframe tbody tr th {\n",
       "        vertical-align: top;\n",
       "    }\n",
       "\n",
       "    .dataframe thead th {\n",
       "        text-align: right;\n",
       "    }\n",
       "</style>\n",
       "<table border=\"1\" class=\"dataframe\">\n",
       "  <thead>\n",
       "    <tr style=\"text-align: right;\">\n",
       "      <th></th>\n",
       "      <th>Preliminary Analysis methodology</th>\n",
       "      <th>Accuracy</th>\n",
       "      <th>F1-measure</th>\n",
       "      <th>Recall(1)</th>\n",
       "      <th>Recall(0)</th>\n",
       "      <th>Precision(1)</th>\n",
       "      <th>Precision(0)</th>\n",
       "      <th>Classification algorithm</th>\n",
       "    </tr>\n",
       "  </thead>\n",
       "  <tbody>\n",
       "    <tr>\n",
       "      <th>0</th>\n",
       "      <td>Feature Selection</td>\n",
       "      <td>0.986</td>\n",
       "      <td>0.980</td>\n",
       "      <td>0.986667</td>\n",
       "      <td>0.985185</td>\n",
       "      <td>0.973684</td>\n",
       "      <td>0.992537</td>\n",
       "      <td>SVM</td>\n",
       "    </tr>\n",
       "    <tr>\n",
       "      <th>1</th>\n",
       "      <td>3 Principal Components</td>\n",
       "      <td>0.976</td>\n",
       "      <td>0.967</td>\n",
       "      <td>0.986667</td>\n",
       "      <td>0.970370</td>\n",
       "      <td>0.948718</td>\n",
       "      <td>0.992424</td>\n",
       "      <td>Random Forest</td>\n",
       "    </tr>\n",
       "    <tr>\n",
       "      <th>2</th>\n",
       "      <td>5 Principal Components</td>\n",
       "      <td>0.976</td>\n",
       "      <td>0.967</td>\n",
       "      <td>0.986667</td>\n",
       "      <td>0.970370</td>\n",
       "      <td>0.948718</td>\n",
       "      <td>0.992424</td>\n",
       "      <td>Random Forest</td>\n",
       "    </tr>\n",
       "    <tr>\n",
       "      <th>3</th>\n",
       "      <td>Without Dimensionality Reduction</td>\n",
       "      <td>0.995</td>\n",
       "      <td>0.993</td>\n",
       "      <td>1.000000</td>\n",
       "      <td>0.992593</td>\n",
       "      <td>0.986842</td>\n",
       "      <td>1.000000</td>\n",
       "      <td>SVM</td>\n",
       "    </tr>\n",
       "  </tbody>\n",
       "</table>\n",
       "</div>"
      ],
      "text/plain": [
       "   Preliminary Analysis methodology  Accuracy  F1-measure  Recall(1)  \\\n",
       "0                 Feature Selection     0.986       0.980   0.986667   \n",
       "1            3 Principal Components     0.976       0.967   0.986667   \n",
       "2            5 Principal Components     0.976       0.967   0.986667   \n",
       "3  Without Dimensionality Reduction     0.995       0.993   1.000000   \n",
       "\n",
       "   Recall(0)  Precision(1)  Precision(0) Classification algorithm  \n",
       "0   0.985185      0.973684      0.992537                      SVM  \n",
       "1   0.970370      0.948718      0.992424            Random Forest  \n",
       "2   0.970370      0.948718      0.992424            Random Forest  \n",
       "3   0.992593      0.986842      1.000000                      SVM  "
      ]
     },
     "execution_count": 104,
     "metadata": {},
     "output_type": "execute_result"
    }
   ],
   "source": [
    "typeoftests = ['Feature Selection', '3 Principal Components', '5 Principal Components', 'Without Dimensionality Reduction']\n",
    "accuracies = [ac_FS, ac_3PC, ac_5PC, ac_no_DR]\n",
    "fmeasures = [f1_FS, f1_3PC, f1_5PC, f1_no_DR]\n",
    "recalls_1 = [r1_FS, r1_3PC, r1_5PC, r1_no_DR]\n",
    "recalls_0 = [r0_FS, r0_3PC, r0_5PC, r0_no_DR]\n",
    "precisions_1 = [p1_FS, p1_3PC, p1_5PC, p1_no_DR]\n",
    "precisions_0 = [p0_FS, p0_3PC, p0_5PC, p0_no_DR]\n",
    "classifiers =[best_classifier_FS[0], best_classifier_3PC[0], best_classifier_5PC[0], best_classifier_no_DR[0]]\n",
    "\n",
    "final_results = pd.DataFrame({'Preliminary Analysis methodology': typeoftests, 'Accuracy': accuracies, \n",
    "                              'F1-measure': fmeasures, 'Recall(1)': recalls_1, 'Recall(0)': recalls_0,\n",
    "                              'Precision(1)': precisions_1, 'Precision(0)': precisions_0,\n",
    "                              'Classification algorithm': classifiers})\n",
    "final_results"
   ]
  }
 ],
 "metadata": {
  "kernelspec": {
   "display_name": "Python 3",
   "language": "python",
   "name": "python3"
  },
  "language_info": {
   "codemirror_mode": {
    "name": "ipython",
    "version": 3
   },
   "file_extension": ".py",
   "mimetype": "text/x-python",
   "name": "python",
   "nbconvert_exporter": "python",
   "pygments_lexer": "ipython3",
   "version": "3.6.5"
  }
 },
 "nbformat": 4,
 "nbformat_minor": 2
}
